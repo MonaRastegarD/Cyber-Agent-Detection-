{
  "nbformat": 4,
  "nbformat_minor": 0,
  "metadata": {
    "colab": {
      "name": "heapSort_Clrs_Mona Rastegar.ipynb",
      "provenance": [],
      "collapsed_sections": [],
      "include_colab_link": true
    },
    "kernelspec": {
      "name": "python3",
      "display_name": "Python 3"
    },
    "language_info": {
      "name": "python"
    }
  },
  "cells": [
    {
      "cell_type": "markdown",
      "metadata": {
        "id": "view-in-github",
        "colab_type": "text"
      },
      "source": [
        "<a href=\"https://colab.research.google.com/github/MonaRastegarD/Cyber-Agent-Detection-/blob/main/heapSort_Clrs_Mona_Rastegar.ipynb\" target=\"_parent\"><img src=\"https://colab.research.google.com/assets/colab-badge.svg\" alt=\"Open In Colab\"/></a>"
      ]
    },
    {
      "cell_type": "markdown",
      "source": [
        "# Professor in UniVersity Shahid beheshty_cs:DR. Hadi farahani\n",
        "# Creator:Mona rastegar\n",
        "#project Complete Heap_Sort "
      ],
      "metadata": {
        "id": "MXvKanGKBtSi"
      }
    },
    {
      "cell_type": "code",
      "execution_count": null,
      "metadata": {
        "colab": {
          "base_uri": "https://localhost:8080/"
        },
        "id": "PEiRyztbAB0X",
        "outputId": "92b7a355-39a3-4dd0-d7cd-93d2e041d80d"
      },
      "outputs": [
        {
          "output_type": "stream",
          "name": "stdout",
          "text": [
            "Heap is :  [16, 14, 4, 1, 2, 3]\n",
            "Heapsort :  [1, 2, 3, 4, 14, 16]\n"
          ]
        }
      ],
      "source": [
        "#Basic Algorithm Heap_sort\n",
        "\n",
        "import math\n",
        "\n",
        "class min_max_heap:\n",
        "\tdef __init__(self,arr):\n",
        "\t\tself.heap = arr\n",
        "\t\n",
        "\tdef check(self):\n",
        "\t\treturn len(self.heap) < 1\n",
        "\n",
        "\tdef get_max(self):\n",
        "\t\tif not self.check():\n",
        "\t\t\treturn self.heap[0]\n",
        "\t\telse:\n",
        "\t\t\tprint(\"Empty Heap\")\n",
        "\n",
        "\tdef parent(self,i):\n",
        "\t\tif 0 <= math.floor((i-1)/2) < len(self.heap):\n",
        "\t\t\treturn math.floor((i-1)/2)\n",
        "\t\telse:\n",
        "\t\t\tpass\n",
        "\n",
        "\tdef right_child(self,i):\n",
        "\t\tif 2*i+2 < len(self.heap):\n",
        "\t\t\treturn 2*i+2\n",
        "\t\telse:\n",
        "\t\t\treturn -1\n",
        "\n",
        "\tdef left_child(self,i):\n",
        "\t\tif 2*i+1 < len(self.heap):\n",
        "\t\t\treturn 2*i+1\n",
        "\t\telse:\n",
        "\t\t\treturn -1\n",
        "\t\n",
        "\tdef check_index(self,i):\n",
        "\t\tif i < len(self.heap):\n",
        "\t\t\treturn True\n",
        "\t\telse:\n",
        "\t\t\tFalse\n",
        "\n",
        "\tdef heapify_max(self,i):\n",
        "\t\tcurrent_max = i\n",
        "\t\tleft = 2*i+1\n",
        "\t\tright = 2*i+2\n",
        "\t\tif current_max < len(self.heap) and self.check_index(left) and self.heap[i] < self.heap[left]:\n",
        "\t\t\tcurrent_max = left\n",
        "\t\tif current_max < len(self.heap) and self.check_index(right) and self.heap[current_max] < self.heap[right]:\n",
        "\t\t\tcurrent_max = right\n",
        "\t\tif current_max != i:\n",
        "\t\t\tself.heap[i],self.heap[current_max] = self.heap[current_max],self.heap[i]\n",
        "\t\t\tself.heapify_max(current_max)\n",
        "\n",
        "\tdef max_heap(self):\n",
        "\t\tfor i in range(math.ceil(len(self.heap)/2)-1,-1,-1):\n",
        "\t\t\tself.heapify_max(i)\n",
        "\n",
        "\tdef heapify_min(self,i):\n",
        "\t\tcurrent_min = i\n",
        "\t\tleft = 2*i+1\n",
        "\t\tright = 2*i+2\n",
        "\t\tif current_min < len(self.heap) and self.check_index(left) and self.heap[i] > self.heap[left]:\n",
        "\t\t\tcurrent_min = left\n",
        "\t\tif current_min < len(self.heap) and self.check_index(right) and self.heap[current_min] > self.heap[right]:\n",
        "\t\t\tcurrent_min = right\n",
        "\t\tif current_min != i:\n",
        "\t\t\tself.heap[i],self.heap[current_min] = self.heap[current_min],self.heap[i]\n",
        "\t\t\tself.heapify_min(current_min)\n",
        "\n",
        "\tdef min_heap(self):\n",
        "\t\tfor i in range(math.ceil(len(self.heap)/2),-1,-1):\n",
        "\t\t\tself.heapify_min(i)\n",
        "\n",
        "\tdef insert(self,val):\n",
        "\t\tself.heap.append(val)\n",
        "\n",
        "\tdef pop(self):\n",
        "\t\tif not self.check():\n",
        "\t\t\tself.heap.pop(0)\n",
        "\t\t\tself.max_heap()\n",
        "\t\telse:\n",
        "\t\t\tprint(\"Empty Heap\")\n",
        "\n",
        "\tdef min_heap_convert(self):\n",
        "\t\tself.min_heap()\n",
        "\n",
        "\tdef heapsort(self,reversed = False):\n",
        "\t\tsorted_array = []\n",
        "\t\tfor __ in range(len(self.heap)):\n",
        "\t\t\tsorted_array.append(self.heap.pop(0))\n",
        "\t\t\tself.max_heap()\n",
        "\t\tif not reversed:\n",
        "\t\t\treturn sorted_array\n",
        "\t\telse:\n",
        "\t\t\treturn sorted_array[::-1]\n",
        "\n",
        "\tdef print_heap(self):\n",
        "\t\tprint(\"Heap is : \", self.heap)\n",
        "\n",
        "\tdef replace(self,x,val):\n",
        "\t\tfor i in range(len(self.heap)):\n",
        "\t\t\tif self.heap[i] == x:\n",
        "\t\t\t\tself.heap[i] = val\n",
        "\t\t\t\n",
        "t = [2]\n",
        "z = min_max_heap(t)\n",
        "z.insert(1)\n",
        "z.insert(3)\n",
        "z.insert(16)\n",
        "z.insert(14)\n",
        "z.insert(4)\n",
        "z.max_heap()\n",
        "z.print_heap()\n",
        "print(\"Heapsort : \",z.heapsort(True))\n"
      ]
    },
    {
      "cell_type": "code",
      "source": [
        "#Basic Algorithm Heap_index\n",
        "import math\n",
        "def heap_index(t,i):\n",
        "\ttry:\n",
        "\t\tprint(\"Head Node at : \", t[math.floor(i/2-1)])\n",
        "\t\tprint(\"Left Child at : \", t[2*i+1])\n",
        "\t\tprint(\"Right Child at : \", t[2*i + 2])\n",
        "\texcept:\n",
        "\t\tprint(\"No node present\")\n",
        "\n",
        "t = [16, 14, 10, 8, 7, 9, 3, 2, 4, 1]\n",
        "heap_index(t,4)\n"
      ],
      "metadata": {
        "colab": {
          "base_uri": "https://localhost:8080/"
        },
        "id": "rORZVq5DARN9",
        "outputId": "df2a8517-9674-444f-8973-4b755a76d11a"
      },
      "execution_count": null,
      "outputs": [
        {
          "output_type": "stream",
          "name": "stdout",
          "text": [
            "Head Node at :  14\n",
            "Left Child at :  1\n",
            "No node present\n"
          ]
        }
      ]
    },
    {
      "cell_type": "code",
      "source": [
        "#Basic Algorithm Max_heap\n",
        "import heapq\n",
        "# Create an array\n",
        "\n",
        "maxheap = []\n",
        "\n",
        "# Heapify the array into a Min Heap\n",
        "heapq.heapify(maxheap)\n",
        "\n",
        "# Add --3，-1，-2, -4 respectively to the Min Heap\n",
        "# no standard implementation for max heap in heapq\n",
        "# have to multiply by -1 to make it a max heap\n",
        "heapq.heappush(maxheap, -3)\n",
        "heapq.heappush(maxheap,-1)\n",
        "heapq.heappush(maxheap, -2)\n",
        "heapq.heappush(maxheap, -4)\n",
        "\n",
        "# Check all elements in the Min Heap\n",
        "print(\"maxHeap: \", maxheap)\n",
        "\n",
        "# Get the top element of the Min Heap\n",
        "max_number = maxheap[0]\n",
        "print(\"top of the heap number: \", -1*max_number)\n",
        "\n",
        "# Delete the top element in the Min Heap\n",
        "popNum = heapq.heappop(maxheap)\n",
        "print(\"pop number: \", popNum)\n",
        "\n",
        "# Check the top element after deleting 1, the result is 2\n",
        "print(\"top of the heap number: \", -1*maxheap[0])\n",
        "\n",
        "# Check the number of elements in the Min Heap\n",
        "# Which is also the length of the Min Heap\n",
        "size = len(maxheap)\n",
        "print(\"maxheap size: \", size)\n",
        "\n"
      ],
      "metadata": {
        "colab": {
          "base_uri": "https://localhost:8080/"
        },
        "id": "6eek2EDdAYaB",
        "outputId": "3c2bb652-2246-41c9-cf62-7c6b4ccd009a"
      },
      "execution_count": null,
      "outputs": [
        {
          "output_type": "stream",
          "name": "stdout",
          "text": [
            "maxHeap:  [-4, -3, -2, -1]\n",
            "top of the heap number:  4\n",
            "pop number:  -4\n",
            "top of the heap number:  3\n",
            "maxheap size:  3\n"
          ]
        }
      ]
    },
    {
      "cell_type": "code",
      "source": [
        "#Basic Algorithm Min_Heap\n",
        "import heapq\n",
        "\n",
        "# Create an array\n",
        "minHeap = []\n",
        "\n",
        "# Heapify the array into a Min Heap\n",
        "heapq.heapify(minHeap)\n",
        "\n",
        "# Add 4, 3，1，2 respectively to the Min Heap\n",
        "heapq.heappush(minHeap, 3)\n",
        "heapq.heappush(minHeap, 1)\n",
        "heapq.heappush(minHeap, 2)\n",
        "heapq.heappush(minHeap, 4)\n",
        "\n",
        "# Check all elements in the Min Heap\n",
        "print(\"minHeap: \", minHeap)\n",
        "\n",
        "# Get the top element of the Min Heap\n",
        "max_number = minHeap[0]\n",
        "print(\"top of the heap number: \", max_number)\n",
        "\n",
        "# Delete the top element in the Min Heap\n",
        "popNum = heapq.heappop(minHeap)\n",
        "print(\"pop number: \", popNum)\n",
        "\n",
        "# Check the top element after deleting 1, the result is 2\n",
        "print(\"top of the heap number: \", minHeap[0])\n",
        "\n",
        "# Check the number of elements in the Min Heap\n",
        "# Which is also the length of the Min Heap\n",
        "size = len(minHeap)\n",
        "print(\"minHeap size: \", size)\n"
      ],
      "metadata": {
        "colab": {
          "base_uri": "https://localhost:8080/"
        },
        "id": "cnUHjFDiBGdj",
        "outputId": "806a60a8-2045-4126-b136-f228c7589e6c"
      },
      "execution_count": null,
      "outputs": [
        {
          "output_type": "stream",
          "name": "stdout",
          "text": [
            "minHeap:  [1, 3, 2, 4]\n",
            "top of the heap number:  1\n",
            "pop number:  1\n",
            "top of the heap number:  2\n",
            "minHeap size:  3\n"
          ]
        }
      ]
    },
    {
      "cell_type": "code",
      "source": [
        "#Basic Algorithm #PriorityQueue\n",
        "from queue import PriorityQueue\n",
        "\n",
        "class min_max_priority:\n",
        "    \n",
        "    def __init__(self):\n",
        "        self.q = PriorityQueue()\n",
        "        \n",
        "    def insert(self,priority_1,value):\n",
        "        self.q.put((priority_1,value))\n",
        "\n",
        "    def maximum(self):\n",
        "        element = self.q.get()\n",
        "        self.q.put(element)\n",
        "        return element\n",
        "    \n",
        "    def extract_max(self):\n",
        "        return self.q.get()\n",
        "    \n",
        "    def increase_key(self,value,value_updated):\n",
        "        while self.q.qsize():\n",
        "            element = self.q.get()\n",
        "            if element[0] == value:\n",
        "                values = element[1]\n",
        "                break\n",
        "        final = (value_updated,values)\n",
        "        self.q.put(final)\n",
        "    \n",
        "    def convert_min(self):\n",
        "        length = self.q.qsize()\n",
        "        while length:\n",
        "            element = self.q.get()\n",
        "            final = (-element[0],element[1])\n",
        "            self.q.put(final)\n",
        "            length -= 1\n",
        "    \n",
        "    def size(self):\n",
        "        return self.q.qsize()\n",
        "    \n",
        "    def __repr__(self):\n",
        "        print(self.q)\n",
        "    \n",
        "pq = min_max_priority()\n",
        "pq.insert(1,3)\n",
        "pq.insert(4,4)\n",
        "pq.insert(10,4)\n",
        "pq.increase_key(1,2)\n",
        "print(pq.maximum())\n",
        "pq.insert(100,4)\n",
        "pq.convert_min()\n",
        "pq.__repr__()\n",
        "print(pq.extract_max())\n"
      ],
      "metadata": {
        "colab": {
          "base_uri": "https://localhost:8080/"
        },
        "id": "Dwr5HA7SBVV0",
        "outputId": "efa6d958-eb65-4269-e102-b124ff2da460"
      },
      "execution_count": null,
      "outputs": [
        {
          "output_type": "stream",
          "name": "stdout",
          "text": [
            "(2, 3)\n",
            "<queue.PriorityQueue object at 0x7f98bd2b86d0>\n",
            "(2, 3)\n"
          ]
        }
      ]
    },
    {
      "cell_type": "code",
      "source": [
        "#Basic Algorithm #Top_k\n",
        "import heapq\n",
        "\n",
        "def top_k(x,k):\n",
        "    # obtain the top k elements in x (smallest)\n",
        "    # time complexity : 0(klogn + n)\n",
        "    # space complexity : 0(n)\n",
        "    heapq.heapify(x)\n",
        "    for i in range(k):\n",
        "        print(heapq.heappop(x)) \n",
        "\n",
        "def top_k_optimized(x,k):\n",
        "    pass\n",
        "    \n",
        "\n",
        "x = [1,2,1,425,122,13,24235]\n",
        "print(top_k(x,3))"
      ],
      "metadata": {
        "colab": {
          "base_uri": "https://localhost:8080/"
        },
        "id": "Ihgs5qySBZ9S",
        "outputId": "112195ec-ac75-4037-8744-8ad3b7e8cafc"
      },
      "execution_count": null,
      "outputs": [
        {
          "output_type": "stream",
          "name": "stdout",
          "text": [
            "1\n",
            "1\n",
            "2\n",
            "None\n"
          ]
        }
      ]
    }
  ]
}